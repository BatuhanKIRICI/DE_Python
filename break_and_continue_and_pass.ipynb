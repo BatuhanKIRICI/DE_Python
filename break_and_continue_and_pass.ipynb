{
 "cells": [
  {
   "cell_type": "code",
   "execution_count": 6,
   "id": "875d2c5b",
   "metadata": {},
   "outputs": [
    {
     "name": "stdout",
     "output_type": "stream",
     "text": [
      "H\n",
      "e\n",
      "l\n",
      "l\n",
      "\n",
      "The end!\n"
     ]
    }
   ],
   "source": [
    "for letter in \"Hello Jupyter!\":\n",
    "    \n",
    "    if letter == \"o\":\n",
    "        \n",
    "        break\n",
    "    \n",
    "    print(letter)\n",
    "    \n",
    "print(\"\\nThe end!\")"
   ]
  },
  {
   "cell_type": "code",
   "execution_count": 7,
   "id": "bda8fb59",
   "metadata": {},
   "outputs": [
    {
     "name": "stdout",
     "output_type": "stream",
     "text": [
      "H\n",
      "e\n",
      "l\n",
      "l\n",
      " \n",
      "J\n",
      "u\n",
      "p\n",
      "y\n",
      "t\n",
      "e\n",
      "r\n",
      "!\n",
      "\n",
      "The end!\n"
     ]
    }
   ],
   "source": [
    "for letter in \"Hello Jupyter!\":\n",
    "    \n",
    "    if letter == \"o\":\n",
    "        \n",
    "        continue\n",
    "    \n",
    "    print(letter)\n",
    "    \n",
    "print(\"\\nThe end!\")"
   ]
  },
  {
   "cell_type": "code",
   "execution_count": 9,
   "id": "83177f58",
   "metadata": {},
   "outputs": [
    {
     "name": "stdout",
     "output_type": "stream",
     "text": [
      "\n",
      "The end!\n"
     ]
    }
   ],
   "source": [
    "for letter in \"Hello Jupyter!\":\n",
    "    \n",
    "    if letter == \"o\":\n",
    "        \n",
    "        pass\n",
    "\n",
    "    \n",
    "print(\"\\nThe end!\")"
   ]
  }
 ],
 "metadata": {
  "kernelspec": {
   "display_name": "Python 3 (ipykernel)",
   "language": "python",
   "name": "python3"
  },
  "language_info": {
   "codemirror_mode": {
    "name": "ipython",
    "version": 3
   },
   "file_extension": ".py",
   "mimetype": "text/x-python",
   "name": "python",
   "nbconvert_exporter": "python",
   "pygments_lexer": "ipython3",
   "version": "3.12.3"
  }
 },
 "nbformat": 4,
 "nbformat_minor": 5
}
