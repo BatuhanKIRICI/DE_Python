{
 "cells": [
  {
   "cell_type": "code",
   "execution_count": 4,
   "id": "de36e497",
   "metadata": {},
   "outputs": [
    {
     "name": "stdout",
     "output_type": "stream",
     "text": [
      "Our goal with this function is to verify if a number is even or odd\n"
     ]
    }
   ],
   "source": [
    "def odd_even(n):\n",
    "    \n",
    "    \"\"\"Our goal with this function is to verify if a number is even or odd\"\"\"\n",
    "    \n",
    "    if (n % 2 == 0):\n",
    "        \n",
    "        print(n, \"is even!\")\n",
    "    \n",
    "    else:\n",
    "        \n",
    "        print(n, \"is odd!\")\n",
    "        \n",
    "        \n",
    "print(odd_even.__doc__)\n",
    "    \n",
    "    "
   ]
  }
 ],
 "metadata": {
  "kernelspec": {
   "display_name": "Python 3 (ipykernel)",
   "language": "python",
   "name": "python3"
  },
  "language_info": {
   "codemirror_mode": {
    "name": "ipython",
    "version": 3
   },
   "file_extension": ".py",
   "mimetype": "text/x-python",
   "name": "python",
   "nbconvert_exporter": "python",
   "pygments_lexer": "ipython3",
   "version": "3.12.3"
  }
 },
 "nbformat": 4,
 "nbformat_minor": 5
}
