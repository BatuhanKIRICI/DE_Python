{
 "cells": [
  {
   "cell_type": "code",
   "execution_count": 9,
   "id": "8b431f07",
   "metadata": {},
   "outputs": [
    {
     "name": "stdout",
     "output_type": "stream",
     "text": [
      "GPA : 3.4\n",
      "Name : Bashim\n",
      "GPA : 3.53\n",
      "Name : Luigi\n"
     ]
    }
   ],
   "source": [
    "class Student:\n",
    "    \n",
    "    def __init__(self,gpa,name):\n",
    "        \n",
    "        self.gpa = gpa\n",
    "        self.name = name\n",
    "        \n",
    "    def student_info(self):\n",
    "        \n",
    "        print(\"GPA :\", self.gpa)\n",
    "        print(\"Name :\", self.name)\n",
    "        \n",
    "student1 = Student(3.4, \"Bashim\")\n",
    "student2 = Student(3.53, \"Luigi\")\n",
    "\n",
    "student1.student_info()\n",
    "student2.student_info()"
   ]
  }
 ],
 "metadata": {
  "kernelspec": {
   "display_name": "Python 3 (ipykernel)",
   "language": "python",
   "name": "python3"
  },
  "language_info": {
   "codemirror_mode": {
    "name": "ipython",
    "version": 3
   },
   "file_extension": ".py",
   "mimetype": "text/x-python",
   "name": "python",
   "nbconvert_exporter": "python",
   "pygments_lexer": "ipython3",
   "version": "3.12.3"
  }
 },
 "nbformat": 4,
 "nbformat_minor": 5
}
