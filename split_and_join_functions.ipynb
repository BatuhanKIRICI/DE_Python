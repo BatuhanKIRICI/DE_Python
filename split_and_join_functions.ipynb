{
 "cells": [
  {
   "cell_type": "code",
   "execution_count": 20,
   "id": "ed7524b4",
   "metadata": {},
   "outputs": [
    {
     "name": "stdout",
     "output_type": "stream",
     "text": [
      "['Who', 'you', 'are', 'man?', 'And', 'what', 'you', 'doin..?']\n",
      "\n",
      "--------------------\n",
      "\n",
      "Who you are man? And what you doin..?\n"
     ]
    }
   ],
   "source": [
    "phrase = \"Who you are man? And what you doin..?\"\n",
    "\n",
    "sp_phrase = phrase.split(\" \")\n",
    "\n",
    "print(sp_phrase)\n",
    "\n",
    "print(\"\\n--------------------\\n\")\n",
    "\n",
    "print(\" \".join(sp_phrase))"
   ]
  }
 ],
 "metadata": {
  "kernelspec": {
   "display_name": "Python 3 (ipykernel)",
   "language": "python",
   "name": "python3"
  },
  "language_info": {
   "codemirror_mode": {
    "name": "ipython",
    "version": 3
   },
   "file_extension": ".py",
   "mimetype": "text/x-python",
   "name": "python",
   "nbconvert_exporter": "python",
   "pygments_lexer": "ipython3",
   "version": "3.12.3"
  }
 },
 "nbformat": 4,
 "nbformat_minor": 5
}
