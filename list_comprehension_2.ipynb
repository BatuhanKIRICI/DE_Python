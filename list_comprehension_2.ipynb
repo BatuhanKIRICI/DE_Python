{
 "cells": [
  {
   "cell_type": "code",
   "execution_count": 1,
   "id": "c1cd31b1",
   "metadata": {},
   "outputs": [],
   "source": [
    "x = [1, 2, 3, 4]\n",
    "\n",
    "out = []"
   ]
  },
  {
   "cell_type": "code",
   "execution_count": 2,
   "id": "d7a0ad0c",
   "metadata": {},
   "outputs": [
    {
     "name": "stdout",
     "output_type": "stream",
     "text": [
      "[1, 8, 27, 64]\n"
     ]
    }
   ],
   "source": [
    "for item in x:\n",
    "    out.append(item ** 3)\n",
    "    \n",
    "print(out)"
   ]
  },
  {
   "cell_type": "code",
   "execution_count": 4,
   "id": "0fe00fb0",
   "metadata": {},
   "outputs": [
    {
     "name": "stdout",
     "output_type": "stream",
     "text": [
      "[1, 4, 9, 16]\n"
     ]
    }
   ],
   "source": [
    "out_2 = [num**2 for num in x]\n",
    "\n",
    "print(out_2)"
   ]
  },
  {
   "cell_type": "code",
   "execution_count": null,
   "id": "6273450e",
   "metadata": {},
   "outputs": [],
   "source": []
  }
 ],
 "metadata": {
  "kernelspec": {
   "display_name": "Python 3 (ipykernel)",
   "language": "python",
   "name": "python3"
  },
  "language_info": {
   "codemirror_mode": {
    "name": "ipython",
    "version": 3
   },
   "file_extension": ".py",
   "mimetype": "text/x-python",
   "name": "python",
   "nbconvert_exporter": "python",
   "pygments_lexer": "ipython3",
   "version": "3.12.3"
  }
 },
 "nbformat": 4,
 "nbformat_minor": 5
}
