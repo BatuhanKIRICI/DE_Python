{
 "cells": [
  {
   "cell_type": "code",
   "execution_count": 40,
   "id": "1b527d62",
   "metadata": {},
   "outputs": [
    {
     "name": "stdout",
     "output_type": "stream",
     "text": [
      "Alan Wilson\n"
     ]
    }
   ],
   "source": [
    "str1 = \"Alan\"\n",
    "str2 = \"Wilson\"\n",
    "\n",
    "str3 = str1 + \" \" + str2\n",
    "\n",
    "print(str3)\n"
   ]
  },
  {
   "cell_type": "code",
   "execution_count": 44,
   "id": "f79a0b4b",
   "metadata": {},
   "outputs": [
    {
     "name": "stdout",
     "output_type": "stream",
     "text": [
      "Wilson\n"
     ]
    }
   ],
   "source": [
    "sliced_str = str3[-6:]\n",
    "\n",
    "print(sliced_str)\n",
    "\n"
   ]
  },
  {
   "cell_type": "code",
   "execution_count": null,
   "id": "d80dcc1e",
   "metadata": {},
   "outputs": [],
   "source": []
  }
 ],
 "metadata": {
  "kernelspec": {
   "display_name": "Python 3 (ipykernel)",
   "language": "python",
   "name": "python3"
  },
  "language_info": {
   "codemirror_mode": {
    "name": "ipython",
    "version": 3
   },
   "file_extension": ".py",
   "mimetype": "text/x-python",
   "name": "python",
   "nbconvert_exporter": "python",
   "pygments_lexer": "ipython3",
   "version": "3.12.3"
  }
 },
 "nbformat": 4,
 "nbformat_minor": 5
}
