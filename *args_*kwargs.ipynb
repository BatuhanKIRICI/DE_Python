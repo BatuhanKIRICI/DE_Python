{
 "cells": [
  {
   "cell_type": "code",
   "execution_count": 13,
   "id": "c0e29bd8",
   "metadata": {},
   "outputs": [
    {
     "name": "stdout",
     "output_type": "stream",
     "text": [
      "Hello\n",
      "Guys!\n",
      "\n",
      "What\n",
      "are\n",
      "you\n",
      "doing?\n"
     ]
    }
   ],
   "source": [
    "def function(*argv):\n",
    "    for arg in argv:\n",
    "        \n",
    "        print(arg)\n",
    "        \n",
    "function(\"Hello\",\"Guys!\", \"\\nWhat\", \"are\", \"you\", \"doing?\")"
   ]
  }
 ],
 "metadata": {
  "kernelspec": {
   "display_name": "Python 3 (ipykernel)",
   "language": "python",
   "name": "python3"
  },
  "language_info": {
   "codemirror_mode": {
    "name": "ipython",
    "version": 3
   },
   "file_extension": ".py",
   "mimetype": "text/x-python",
   "name": "python",
   "nbconvert_exporter": "python",
   "pygments_lexer": "ipython3",
   "version": "3.12.3"
  }
 },
 "nbformat": 4,
 "nbformat_minor": 5
}
