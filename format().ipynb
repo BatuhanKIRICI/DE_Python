{
 "cells": [
  {
   "cell_type": "code",
   "execution_count": 1,
   "id": "35178307",
   "metadata": {},
   "outputs": [],
   "source": [
    "num = 15\n",
    "name = \"Mark\""
   ]
  },
  {
   "cell_type": "code",
   "execution_count": 2,
   "id": "a7dbbe51",
   "metadata": {},
   "outputs": [],
   "source": [
    "result = \"My name is {} and my age is {}.\".format(name, num)"
   ]
  },
  {
   "cell_type": "code",
   "execution_count": 4,
   "id": "3359dab0",
   "metadata": {},
   "outputs": [
    {
     "name": "stdout",
     "output_type": "stream",
     "text": [
      "My name is Mark and my age is 15\n"
     ]
    }
   ],
   "source": [
    "print(result)"
   ]
  }
 ],
 "metadata": {
  "kernelspec": {
   "display_name": "Python 3 (ipykernel)",
   "language": "python",
   "name": "python3"
  },
  "language_info": {
   "codemirror_mode": {
    "name": "ipython",
    "version": 3
   },
   "file_extension": ".py",
   "mimetype": "text/x-python",
   "name": "python",
   "nbconvert_exporter": "python",
   "pygments_lexer": "ipython3",
   "version": "3.12.3"
  }
 },
 "nbformat": 4,
 "nbformat_minor": 5
}
