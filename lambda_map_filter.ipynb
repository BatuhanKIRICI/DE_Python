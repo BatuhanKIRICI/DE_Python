{
 "cells": [
  {
   "cell_type": "code",
   "execution_count": 2,
   "id": "80265cdd",
   "metadata": {},
   "outputs": [
    {
     "data": {
      "text/plain": [
       "20"
      ]
     },
     "execution_count": 2,
     "metadata": {},
     "output_type": "execute_result"
    }
   ],
   "source": [
    "def times2(var):\n",
    "    return var*2\n",
    "\n",
    "times2(10)"
   ]
  },
  {
   "cell_type": "code",
   "execution_count": 3,
   "id": "4d256f3e",
   "metadata": {},
   "outputs": [],
   "source": [
    "seq = [1, 2, 3, 4, 5]"
   ]
  },
  {
   "cell_type": "code",
   "execution_count": 4,
   "id": "366d6117",
   "metadata": {},
   "outputs": [
    {
     "data": {
      "text/plain": [
       "[2, 4, 6, 8, 10]"
      ]
     },
     "execution_count": 4,
     "metadata": {},
     "output_type": "execute_result"
    }
   ],
   "source": [
    "list(map(times2, seq))"
   ]
  },
  {
   "cell_type": "code",
   "execution_count": 5,
   "id": "9c29fc89",
   "metadata": {},
   "outputs": [],
   "source": [
    "x = lambda var : var**2"
   ]
  },
  {
   "cell_type": "code",
   "execution_count": 6,
   "id": "138d2831",
   "metadata": {},
   "outputs": [
    {
     "data": {
      "text/plain": [
       "25"
      ]
     },
     "execution_count": 6,
     "metadata": {},
     "output_type": "execute_result"
    }
   ],
   "source": [
    "x(5)"
   ]
  },
  {
   "cell_type": "code",
   "execution_count": 7,
   "id": "b1365f2d",
   "metadata": {},
   "outputs": [],
   "source": [
    "list_lambda = list(map(lambda num:num*5, seq))"
   ]
  },
  {
   "cell_type": "code",
   "execution_count": 8,
   "id": "99cb6fde",
   "metadata": {},
   "outputs": [
    {
     "name": "stdout",
     "output_type": "stream",
     "text": [
      "[5, 10, 15, 20, 25]\n"
     ]
    }
   ],
   "source": [
    "print(list_lambda)"
   ]
  },
  {
   "cell_type": "code",
   "execution_count": 9,
   "id": "51402ae5",
   "metadata": {},
   "outputs": [],
   "source": [
    "filter_list = list(filter(lambda num:num%2==0, seq))"
   ]
  },
  {
   "cell_type": "code",
   "execution_count": 10,
   "id": "83c157bb",
   "metadata": {},
   "outputs": [
    {
     "name": "stdout",
     "output_type": "stream",
     "text": [
      "[2, 4]\n"
     ]
    }
   ],
   "source": [
    "print(filter_list)"
   ]
  },
  {
   "cell_type": "code",
   "execution_count": null,
   "id": "2d1c6ec9",
   "metadata": {},
   "outputs": [],
   "source": []
  }
 ],
 "metadata": {
  "kernelspec": {
   "display_name": "Python 3 (ipykernel)",
   "language": "python",
   "name": "python3"
  },
  "language_info": {
   "codemirror_mode": {
    "name": "ipython",
    "version": 3
   },
   "file_extension": ".py",
   "mimetype": "text/x-python",
   "name": "python",
   "nbconvert_exporter": "python",
   "pygments_lexer": "ipython3",
   "version": "3.12.3"
  }
 },
 "nbformat": 4,
 "nbformat_minor": 5
}
