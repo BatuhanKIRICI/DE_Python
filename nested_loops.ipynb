{
 "cells": [
  {
   "cell_type": "code",
   "execution_count": 4,
   "id": "a606e0cc",
   "metadata": {},
   "outputs": [
    {
     "name": "stdout",
     "output_type": "stream",
     "text": [
      "*\n",
      "**\n",
      "***\n",
      "****\n",
      "*****\n",
      "******\n"
     ]
    }
   ],
   "source": [
    "for i in range(1,7):\n",
    "    \n",
    "    for j in range(1, i+1):\n",
    "        \n",
    "        print(\"*\", end=\"\")\n",
    "    print(\"\")"
   ]
  },
  {
   "cell_type": "code",
   "execution_count": 5,
   "id": "2b6cb947",
   "metadata": {},
   "outputs": [
    {
     "name": "stdout",
     "output_type": "stream",
     "text": [
      "\n",
      "*\n",
      "**\n",
      "***\n",
      "****\n",
      "*****\n",
      "******\n",
      "*******\n"
     ]
    }
   ],
   "source": [
    "rows = 7\n",
    "\n",
    "i = 0\n",
    "\n",
    "while i <= rows:\n",
    "    \n",
    "    j=1\n",
    "    \n",
    "    while j <= i:\n",
    "        \n",
    "        print(\"*\", end=\"\")\n",
    "        \n",
    "        j = j + 1\n",
    "        \n",
    "    i = i + 1\n",
    "    \n",
    "    print(\"\")"
   ]
  }
 ],
 "metadata": {
  "kernelspec": {
   "display_name": "Python 3 (ipykernel)",
   "language": "python",
   "name": "python3"
  },
  "language_info": {
   "codemirror_mode": {
    "name": "ipython",
    "version": 3
   },
   "file_extension": ".py",
   "mimetype": "text/x-python",
   "name": "python",
   "nbconvert_exporter": "python",
   "pygments_lexer": "ipython3",
   "version": "3.12.3"
  }
 },
 "nbformat": 4,
 "nbformat_minor": 5
}
