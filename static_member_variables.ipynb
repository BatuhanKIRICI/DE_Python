{
 "cells": [
  {
   "cell_type": "code",
   "execution_count": 1,
   "id": "f06bcf08",
   "metadata": {},
   "outputs": [],
   "source": [
    "class myclass:\n",
    "    \n",
    "    a = 5\n",
    "    \n",
    "    def __init__(self):\n",
    "        \n",
    "        self.x = 10\n",
    "        y = 4\n",
    "        \n",
    "        myclass.b = 34\n",
    "        \n",
    "    def f1(self):\n",
    "        \n",
    "        myclass.c = 65\n",
    "        \n",
    "    def f2(self):\n",
    "        \n",
    "        myclass.d = 66\n",
    "        \n",
    "    def f3(cls):\n",
    "        \n",
    "        cls.e = 15\n",
    "        myclass.f = 53\n",
    "\n",
    "myclass.g = 11"
   ]
  },
  {
   "cell_type": "code",
   "execution_count": null,
   "id": "1c64b386",
   "metadata": {},
   "outputs": [],
   "source": []
  }
 ],
 "metadata": {
  "kernelspec": {
   "display_name": "Python 3 (ipykernel)",
   "language": "python",
   "name": "python3"
  },
  "language_info": {
   "codemirror_mode": {
    "name": "ipython",
    "version": 3
   },
   "file_extension": ".py",
   "mimetype": "text/x-python",
   "name": "python",
   "nbconvert_exporter": "python",
   "pygments_lexer": "ipython3",
   "version": "3.12.3"
  }
 },
 "nbformat": 4,
 "nbformat_minor": 5
}
