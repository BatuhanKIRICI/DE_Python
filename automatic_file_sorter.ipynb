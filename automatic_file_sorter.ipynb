{
 "cells": [
  {
   "cell_type": "code",
   "execution_count": 30,
   "id": "1fe7e5ad",
   "metadata": {},
   "outputs": [],
   "source": [
    "import os, shutil"
   ]
  },
  {
   "cell_type": "code",
   "execution_count": 31,
   "id": "a072c93a",
   "metadata": {},
   "outputs": [],
   "source": [
    "path = \"/home/batuhan/Desktop/exercise/\""
   ]
  },
  {
   "cell_type": "code",
   "execution_count": 32,
   "id": "b00a2b75",
   "metadata": {},
   "outputs": [],
   "source": [
    "file_name = os.listdir(path)"
   ]
  },
  {
   "cell_type": "code",
   "execution_count": 33,
   "id": "96c70a3d",
   "metadata": {},
   "outputs": [],
   "source": [
    "folder_names = [\"csv files\", \"image files\", \"text files\"]\n",
    "\n",
    "for loop in range(0,3):\n",
    "    \n",
    "    if not os.path.exists(path + folder_names[loop]):\n",
    "    \n",
    "        os.makedirs(path + folder_names[loop])"
   ]
  },
  {
   "cell_type": "code",
   "execution_count": 35,
   "id": "2b509add",
   "metadata": {},
   "outputs": [
    {
     "name": "stdout",
     "output_type": "stream",
     "text": [
      "There are files in this path they are not moved.\n",
      "There are files in this path they are not moved.\n",
      "There are files in this path they are not moved.\n",
      "There are files in this path they are not moved.\n"
     ]
    }
   ],
   "source": [
    "for file in file_name:\n",
    "    \n",
    "    if \".csv\" in file and not os.path.exists(path + \"csv files/\" + file):\n",
    "        \n",
    "        shutil.move(path + file, path + \"csv files/\" + file)\n",
    "        \n",
    "    if \".jpeg\" in file and not os.path.exists(path + \"csv files/\" + file):\n",
    "        \n",
    "        shutil.move(path + file, path + \"image files/\" + file)\n",
    "    \n",
    "    if \".txt\" in file and not os.path.exists(path + \"csv files/\" + file):\n",
    "        \n",
    "        shutil.move(path + file, path + \"text files/\" + file)\n",
    "    else:\n",
    "        print(\"There are files in this path they are not moved.\")"
   ]
  },
  {
   "cell_type": "code",
   "execution_count": null,
   "id": "b6f6cedb",
   "metadata": {},
   "outputs": [],
   "source": []
  }
 ],
 "metadata": {
  "kernelspec": {
   "display_name": "Python 3 (ipykernel)",
   "language": "python",
   "name": "python3"
  },
  "language_info": {
   "codemirror_mode": {
    "name": "ipython",
    "version": 3
   },
   "file_extension": ".py",
   "mimetype": "text/x-python",
   "name": "python",
   "nbconvert_exporter": "python",
   "pygments_lexer": "ipython3",
   "version": "3.12.3"
  }
 },
 "nbformat": 4,
 "nbformat_minor": 5
}
