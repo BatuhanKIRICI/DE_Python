{
 "cells": [
  {
   "cell_type": "code",
   "execution_count": 10,
   "id": "9ff9f3b2",
   "metadata": {},
   "outputs": [
    {
     "name": "stdout",
     "output_type": "stream",
     "text": [
      "python\n",
      "<class 'str'>\n"
     ]
    }
   ],
   "source": [
    "my_list = [\"p\", \"y\", \"t\", \"h\", \"o\", \"n\"]\n",
    "\n",
    "string = \"\".join(my_list)\n",
    "\n",
    "print(string)\n",
    "\n",
    "print(type(string))"
   ]
  },
  {
   "cell_type": "code",
   "execution_count": null,
   "id": "70d316c5",
   "metadata": {},
   "outputs": [],
   "source": []
  }
 ],
 "metadata": {
  "kernelspec": {
   "display_name": "Python 3 (ipykernel)",
   "language": "python",
   "name": "python3"
  },
  "language_info": {
   "codemirror_mode": {
    "name": "ipython",
    "version": 3
   },
   "file_extension": ".py",
   "mimetype": "text/x-python",
   "name": "python",
   "nbconvert_exporter": "python",
   "pygments_lexer": "ipython3",
   "version": "3.12.3"
  }
 },
 "nbformat": 4,
 "nbformat_minor": 5
}
