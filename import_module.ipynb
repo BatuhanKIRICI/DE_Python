{
 "cells": [
  {
   "cell_type": "code",
   "execution_count": 3,
   "id": "3a63968c",
   "metadata": {},
   "outputs": [
    {
     "name": "stdout",
     "output_type": "stream",
     "text": [
      "3.0\n"
     ]
    }
   ],
   "source": [
    "import math\n",
    "\n",
    "root = math.sqrt(9)\n",
    "\n",
    "print(root)"
   ]
  },
  {
   "cell_type": "code",
   "execution_count": 5,
   "id": "49eda065",
   "metadata": {},
   "outputs": [
    {
     "name": "stdout",
     "output_type": "stream",
     "text": [
      "4.0\n"
     ]
    }
   ],
   "source": [
    "import math as m\n",
    "\n",
    "root_2 = math.sqrt(16)\n",
    "\n",
    "print(root_2)"
   ]
  },
  {
   "cell_type": "code",
   "execution_count": 8,
   "id": "2492b562",
   "metadata": {},
   "outputs": [
    {
     "name": "stdout",
     "output_type": "stream",
     "text": [
      "7.0\n"
     ]
    }
   ],
   "source": [
    "from math import sqrt\n",
    "\n",
    "root_3 = sqrt(49)\n",
    "\n",
    "print(root_3)"
   ]
  },
  {
   "cell_type": "code",
   "execution_count": 10,
   "id": "713d9cbb",
   "metadata": {},
   "outputs": [
    {
     "name": "stdout",
     "output_type": "stream",
     "text": [
      "3.141592653589793\n"
     ]
    }
   ],
   "source": [
    "from math import *\n",
    "\n",
    "# \"*\" means import everything\n",
    "\n",
    "p = pi\n",
    "\n",
    "print(p)"
   ]
  },
  {
   "cell_type": "code",
   "execution_count": null,
   "id": "fbafdd64",
   "metadata": {},
   "outputs": [],
   "source": []
  }
 ],
 "metadata": {
  "kernelspec": {
   "display_name": "Python 3 (ipykernel)",
   "language": "python",
   "name": "python3"
  },
  "language_info": {
   "codemirror_mode": {
    "name": "ipython",
    "version": 3
   },
   "file_extension": ".py",
   "mimetype": "text/x-python",
   "name": "python",
   "nbconvert_exporter": "python",
   "pygments_lexer": "ipython3",
   "version": "3.12.3"
  }
 },
 "nbformat": 4,
 "nbformat_minor": 5
}
