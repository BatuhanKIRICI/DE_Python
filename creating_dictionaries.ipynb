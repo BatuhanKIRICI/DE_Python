{
 "cells": [
  {
   "cell_type": "code",
   "execution_count": 1,
   "id": "ed188fe8",
   "metadata": {},
   "outputs": [],
   "source": [
    "key_1 = \"mark\""
   ]
  },
  {
   "cell_type": "code",
   "execution_count": 2,
   "id": "405bab7a",
   "metadata": {},
   "outputs": [
    {
     "data": {
      "text/plain": [
       "6593313323534761818"
      ]
     },
     "execution_count": 2,
     "metadata": {},
     "output_type": "execute_result"
    }
   ],
   "source": [
    "key_1.__hash__()"
   ]
  },
  {
   "cell_type": "code",
   "execution_count": 4,
   "id": "fd9b0e40",
   "metadata": {},
   "outputs": [
    {
     "data": {
      "text/plain": [
       "{}"
      ]
     },
     "execution_count": 4,
     "metadata": {},
     "output_type": "execute_result"
    }
   ],
   "source": [
    "dict()"
   ]
  },
  {
   "cell_type": "code",
   "execution_count": 5,
   "id": "2d4b0fd4",
   "metadata": {},
   "outputs": [
    {
     "data": {
      "text/plain": [
       "{'name': 'mark', 'age': 19}"
      ]
     },
     "execution_count": 5,
     "metadata": {},
     "output_type": "execute_result"
    }
   ],
   "source": [
    "dict(name = \"mark\", age = 19)"
   ]
  },
  {
   "cell_type": "code",
   "execution_count": 7,
   "id": "38290d9a",
   "metadata": {},
   "outputs": [
    {
     "data": {
      "text/plain": [
       "{'name': 'friedrich', 'age': 13}"
      ]
     },
     "execution_count": 7,
     "metadata": {},
     "output_type": "execute_result"
    }
   ],
   "source": [
    "dict([[\"name\",\"friedrich\"],[\"age\",13]])"
   ]
  },
  {
   "cell_type": "code",
   "execution_count": 8,
   "id": "d1bb38b9",
   "metadata": {},
   "outputs": [
    {
     "data": {
      "text/plain": [
       "{'name': 'alfred', 'age': 25}"
      ]
     },
     "execution_count": 8,
     "metadata": {},
     "output_type": "execute_result"
    }
   ],
   "source": [
    "{'name':\"alfred\" , 'age':25}"
   ]
  },
  {
   "cell_type": "code",
   "execution_count": null,
   "id": "41cc6dc6",
   "metadata": {},
   "outputs": [],
   "source": []
  }
 ],
 "metadata": {
  "kernelspec": {
   "display_name": "Python 3 (ipykernel)",
   "language": "python",
   "name": "python3"
  },
  "language_info": {
   "codemirror_mode": {
    "name": "ipython",
    "version": 3
   },
   "file_extension": ".py",
   "mimetype": "text/x-python",
   "name": "python",
   "nbconvert_exporter": "python",
   "pygments_lexer": "ipython3",
   "version": "3.12.3"
  }
 },
 "nbformat": 4,
 "nbformat_minor": 5
}
