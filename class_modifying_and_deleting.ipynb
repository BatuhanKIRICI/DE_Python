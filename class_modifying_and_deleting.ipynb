{
 "cells": [
  {
   "cell_type": "code",
   "execution_count": 12,
   "id": "234f1c32",
   "metadata": {},
   "outputs": [
    {
     "name": "stdout",
     "output_type": "stream",
     "text": [
      "GPA : 3.4\n",
      "Name : Bashim\n",
      "GPA : 3.53\n",
      "Name : Luigi\n",
      "GPA : 3.47\n",
      "Name : Bashim\n"
     ]
    },
    {
     "ename": "AttributeError",
     "evalue": "'Student' object has no attribute 'gpa'",
     "output_type": "error",
     "traceback": [
      "\u001b[0;31m---------------------------------------------------------------------------\u001b[0m",
      "\u001b[0;31mAttributeError\u001b[0m                            Traceback (most recent call last)",
      "Cell \u001b[0;32mIn[12], line 25\u001b[0m\n\u001b[1;32m     21\u001b[0m student1\u001b[38;5;241m.\u001b[39mstudent_info()\n\u001b[1;32m     23\u001b[0m \u001b[38;5;28;01mdel\u001b[39;00m student2\u001b[38;5;241m.\u001b[39mgpa\n\u001b[0;32m---> 25\u001b[0m \u001b[43mstudent2\u001b[49m\u001b[38;5;241;43m.\u001b[39;49m\u001b[43mstudent_info\u001b[49m\u001b[43m(\u001b[49m\u001b[43m)\u001b[49m\n",
      "Cell \u001b[0;32mIn[12], line 10\u001b[0m, in \u001b[0;36mStudent.student_info\u001b[0;34m(self)\u001b[0m\n\u001b[1;32m      8\u001b[0m \u001b[38;5;28;01mdef\u001b[39;00m \u001b[38;5;21mstudent_info\u001b[39m(\u001b[38;5;28mself\u001b[39m):\n\u001b[0;32m---> 10\u001b[0m     \u001b[38;5;28mprint\u001b[39m(\u001b[38;5;124m\"\u001b[39m\u001b[38;5;124mGPA :\u001b[39m\u001b[38;5;124m\"\u001b[39m, \u001b[38;5;28;43mself\u001b[39;49m\u001b[38;5;241;43m.\u001b[39;49m\u001b[43mgpa\u001b[49m)\n\u001b[1;32m     11\u001b[0m     \u001b[38;5;28mprint\u001b[39m(\u001b[38;5;124m\"\u001b[39m\u001b[38;5;124mName :\u001b[39m\u001b[38;5;124m\"\u001b[39m, \u001b[38;5;28mself\u001b[39m\u001b[38;5;241m.\u001b[39mname)\n",
      "\u001b[0;31mAttributeError\u001b[0m: 'Student' object has no attribute 'gpa'"
     ]
    }
   ],
   "source": [
    "class Student:\n",
    "    \n",
    "    def __init__(self,gpa,name):\n",
    "        \n",
    "        self.gpa = gpa\n",
    "        self.name = name\n",
    "        \n",
    "    def student_info(self):\n",
    "        \n",
    "        print(\"GPA :\", self.gpa)\n",
    "        print(\"Name :\", self.name)\n",
    "        \n",
    "student1 = Student(3.4, \"Bashim\")\n",
    "student2 = Student(3.53, \"Luigi\")\n",
    "\n",
    "student1.student_info()\n",
    "student2.student_info()\n",
    "\n",
    "student1 = Student(3.47, \"Bashim\")\n",
    "\n",
    "student1.student_info()\n",
    "\n",
    "del student2.gpa\n",
    "\n",
    "student2.student_info()"
   ]
  },
  {
   "cell_type": "code",
   "execution_count": null,
   "id": "87d4ccc2",
   "metadata": {},
   "outputs": [],
   "source": [
    "\n",
    "\n",
    "\n",
    "\n"
   ]
  }
 ],
 "metadata": {
  "kernelspec": {
   "display_name": "Python 3 (ipykernel)",
   "language": "python",
   "name": "python3"
  },
  "language_info": {
   "codemirror_mode": {
    "name": "ipython",
    "version": 3
   },
   "file_extension": ".py",
   "mimetype": "text/x-python",
   "name": "python",
   "nbconvert_exporter": "python",
   "pygments_lexer": "ipython3",
   "version": "3.12.3"
  }
 },
 "nbformat": 4,
 "nbformat_minor": 5
}
