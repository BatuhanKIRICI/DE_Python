{
 "cells": [
  {
   "cell_type": "code",
   "execution_count": 2,
   "id": "a1f59785",
   "metadata": {},
   "outputs": [
    {
     "name": "stdout",
     "output_type": "stream",
     "text": [
      "0, 1, 1, 2, 3, 5, 8\n"
     ]
    }
   ],
   "source": [
    "fib = [0,1]\n",
    "\n",
    "n = 5\n",
    "\n",
    "for i in range(5):\n",
    "    \n",
    "    fib.append(fib[-1] + fib[-2])\n",
    "    \n",
    "print(\", \".join(str(e) for e in fib))"
   ]
  },
  {
   "cell_type": "code",
   "execution_count": null,
   "id": "0e4a3fd9",
   "metadata": {},
   "outputs": [],
   "source": []
  }
 ],
 "metadata": {
  "kernelspec": {
   "display_name": "Python 3 (ipykernel)",
   "language": "python",
   "name": "python3"
  },
  "language_info": {
   "codemirror_mode": {
    "name": "ipython",
    "version": 3
   },
   "file_extension": ".py",
   "mimetype": "text/x-python",
   "name": "python",
   "nbconvert_exporter": "python",
   "pygments_lexer": "ipython3",
   "version": "3.12.3"
  }
 },
 "nbformat": 4,
 "nbformat_minor": 5
}
