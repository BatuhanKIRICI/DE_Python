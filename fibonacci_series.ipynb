{
 "cells": [
  {
   "cell_type": "code",
   "execution_count": 2,
   "id": "ed769b4d",
   "metadata": {},
   "outputs": [
    {
     "name": "stdout",
     "output_type": "stream",
     "text": [
      "0, 1, 1, 2, 3, 5, 8\n"
     ]
    }
   ],
   "source": [
    "fib = [0,1]\n",
    "\n",
    "n = 5\n",
    "\n",
    "for i in range(5):\n",
    "    \n",
    "    fib.append(fib[-1] + fib[-2])\n",
    "    \n",
    "print(\", \".join(str(e) for e in fib))"
   ]
  },
  {
   "cell_type": "code",
   "execution_count": 3,
   "id": "69562561",
   "metadata": {},
   "outputs": [
    {
     "name": "stdout",
     "output_type": "stream",
     "text": [
      "89\n"
     ]
    }
   ],
   "source": [
    "number_list = [-35, 65, 7, 89, 2.5, 0, -3, 22/7]\n",
    "\n",
    "max = number_list[0]\n",
    "\n",
    "for num in number_list:\n",
    "    \n",
    "    if max < num:\n",
    "        \n",
    "        max = num\n",
    "        \n",
    "print(max)"
   ]
  },
  {
   "cell_type": "code",
   "execution_count": null,
   "id": "4b65aca1",
   "metadata": {},
   "outputs": [],
   "source": []
  }
 ],
 "metadata": {
  "kernelspec": {
   "display_name": "Python 3 (ipykernel)",
   "language": "python",
   "name": "python3"
  },
  "language_info": {
   "codemirror_mode": {
    "name": "ipython",
    "version": 3
   },
   "file_extension": ".py",
   "mimetype": "text/x-python",
   "name": "python",
   "nbconvert_exporter": "python",
   "pygments_lexer": "ipython3",
   "version": "3.12.3"
  }
 },
 "nbformat": 4,
 "nbformat_minor": 5
}
