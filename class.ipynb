{
 "cells": [
  {
   "cell_type": "code",
   "execution_count": 3,
   "id": "fb7d535d",
   "metadata": {},
   "outputs": [
    {
     "name": "stdout",
     "output_type": "stream",
     "text": [
      "<class '__main__.Student'>\n",
      "<class 'type'>\n",
      "Michael Bock\n"
     ]
    }
   ],
   "source": [
    "class Student:\n",
    "    \n",
    "    name = \"Michael Bock\"\n",
    "    GPA = 3.63\n",
    "    \n",
    "print(Student)\n",
    "print(type(Student))\n",
    "print(Student.name)"
   ]
  },
  {
   "cell_type": "code",
   "execution_count": 5,
   "id": "73b69083",
   "metadata": {},
   "outputs": [
    {
     "name": "stdout",
     "output_type": "stream",
     "text": [
      "3.63\n"
     ]
    }
   ],
   "source": [
    "student1 = Student\n",
    "\n",
    "print(student1.GPA)"
   ]
  },
  {
   "cell_type": "code",
   "execution_count": null,
   "id": "f1678f81",
   "metadata": {},
   "outputs": [],
   "source": []
  }
 ],
 "metadata": {
  "kernelspec": {
   "display_name": "Python 3 (ipykernel)",
   "language": "python",
   "name": "python3"
  },
  "language_info": {
   "codemirror_mode": {
    "name": "ipython",
    "version": 3
   },
   "file_extension": ".py",
   "mimetype": "text/x-python",
   "name": "python",
   "nbconvert_exporter": "python",
   "pygments_lexer": "ipython3",
   "version": "3.12.3"
  }
 },
 "nbformat": 4,
 "nbformat_minor": 5
}
