{
 "cells": [
  {
   "cell_type": "code",
   "execution_count": 8,
   "id": "afa17dac",
   "metadata": {},
   "outputs": [
    {
     "ename": "NameError",
     "evalue": "name 'slef' is not defined",
     "output_type": "error",
     "traceback": [
      "\u001b[0;31m---------------------------------------------------------------------------\u001b[0m",
      "\u001b[0;31mNameError\u001b[0m                                 Traceback (most recent call last)",
      "Cell \u001b[0;32mIn[8], line 13\u001b[0m\n\u001b[1;32m     10\u001b[0m         \u001b[38;5;28mprint\u001b[39m(\u001b[38;5;124m\"\u001b[39m\u001b[38;5;124mGPA :\u001b[39m\u001b[38;5;124m\"\u001b[39m, \u001b[38;5;28mself\u001b[39m\u001b[38;5;241m.\u001b[39mgpa)\n\u001b[1;32m     11\u001b[0m         \u001b[38;5;28mprint\u001b[39m(\u001b[38;5;124m\"\u001b[39m\u001b[38;5;124mName :\u001b[39m\u001b[38;5;124m\"\u001b[39m, \u001b[38;5;28mself\u001b[39m\u001b[38;5;241m.\u001b[39mname)\n\u001b[0;32m---> 13\u001b[0m student1 \u001b[38;5;241m=\u001b[39m \u001b[43mStudent\u001b[49m\u001b[43m(\u001b[49m\u001b[38;5;241;43m3.4\u001b[39;49m\u001b[43m,\u001b[49m\u001b[43m \u001b[49m\u001b[38;5;124;43m\"\u001b[39;49m\u001b[38;5;124;43mBashim\u001b[39;49m\u001b[38;5;124;43m\"\u001b[39;49m\u001b[43m)\u001b[49m\n\u001b[1;32m     14\u001b[0m student2 \u001b[38;5;241m=\u001b[39m Student(\u001b[38;5;241m3.53\u001b[39m, \u001b[38;5;124m\"\u001b[39m\u001b[38;5;124mLuigi\u001b[39m\u001b[38;5;124m\"\u001b[39m)\n\u001b[1;32m     16\u001b[0m student1\u001b[38;5;241m.\u001b[39mstudent_info()\n",
      "Cell \u001b[0;32mIn[8], line 6\u001b[0m, in \u001b[0;36mStudent.__init__\u001b[0;34m(self, gpa, name)\u001b[0m\n\u001b[1;32m      3\u001b[0m \u001b[38;5;28;01mdef\u001b[39;00m \u001b[38;5;21m__init__\u001b[39m(\u001b[38;5;28mself\u001b[39m,gpa,name):\n\u001b[1;32m      5\u001b[0m     \u001b[38;5;28mself\u001b[39m\u001b[38;5;241m.\u001b[39mgpa \u001b[38;5;241m=\u001b[39m gpa\n\u001b[0;32m----> 6\u001b[0m     \u001b[43mslef\u001b[49m\u001b[38;5;241m.\u001b[39mname \u001b[38;5;241m=\u001b[39m name\n",
      "\u001b[0;31mNameError\u001b[0m: name 'slef' is not defined"
     ]
    }
   ],
   "source": [
    "class Student:\n",
    "    \n",
    "    def __init__(self,gpa,name):\n",
    "        \n",
    "        self.gpa = gpa\n",
    "        slef.name = name\n",
    "        \n",
    "    def student_info(self):\n",
    "        \n",
    "        print(\"GPA :\", self.gpa)\n",
    "        print(\"Name :\", self.name)\n",
    "        \n",
    "student1 = Student(3.4, \"Bashim\")\n",
    "student2 = Student(3.53, \"Luigi\")\n",
    "\n",
    "student1.student_info()\n",
    "student2.student_info()"
   ]
  }
 ],
 "metadata": {
  "kernelspec": {
   "display_name": "Python 3 (ipykernel)",
   "language": "python",
   "name": "python3"
  },
  "language_info": {
   "codemirror_mode": {
    "name": "ipython",
    "version": 3
   },
   "file_extension": ".py",
   "mimetype": "text/x-python",
   "name": "python",
   "nbconvert_exporter": "python",
   "pygments_lexer": "ipython3",
   "version": "3.12.3"
  }
 },
 "nbformat": 4,
 "nbformat_minor": 5
}
