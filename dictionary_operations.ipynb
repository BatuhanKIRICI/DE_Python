{
 "cells": [
  {
   "cell_type": "code",
   "execution_count": 47,
   "id": "ad0f81d1",
   "metadata": {},
   "outputs": [
    {
     "name": "stdout",
     "output_type": "stream",
     "text": [
      "{'two': 2, 'three': 3}\n"
     ]
    }
   ],
   "source": [
    "dic = {'one': 1, \"two\":2, \"three\":3}\n",
    "\n",
    "del dic[\"one\"]\n",
    "\n",
    "print(dic)"
   ]
  },
  {
   "cell_type": "code",
   "execution_count": 51,
   "id": "19110089",
   "metadata": {},
   "outputs": [
    {
     "name": "stdout",
     "output_type": "stream",
     "text": [
      "keys:  dict_keys(['one', 'two', 'three', 'four', 'five'])\n",
      "values:  dict_values([10, 2, 3, 4, 5])\n"
     ]
    }
   ],
   "source": [
    "dic1 = {'one': 1, \"two\":2, \"three\":3}\n",
    "dic2 = {'one': 10, \"four\":4, \"five\":5}\n",
    "\n",
    "dic1.update(dic2)\n",
    "\n",
    "# print(dic1)\n",
    "\n",
    "keys = dic1.keys()\n",
    "values = dic1.values()\n",
    "\n",
    "print(\"keys: \", keys)\n",
    "print(\"values: \", values)\n"
   ]
  },
  {
   "cell_type": "code",
   "execution_count": 52,
   "id": "549301e5",
   "metadata": {},
   "outputs": [
    {
     "name": "stdout",
     "output_type": "stream",
     "text": [
      "dict_items([('one', 10), ('four', 4), ('five', 5)])\n"
     ]
    }
   ],
   "source": [
    "items = dic2.items()\n",
    "\n",
    "print(items)\n",
    "\n",
    "\n",
    "\n",
    "\n"
   ]
  }
 ],
 "metadata": {
  "kernelspec": {
   "display_name": "Python 3 (ipykernel)",
   "language": "python",
   "name": "python3"
  },
  "language_info": {
   "codemirror_mode": {
    "name": "ipython",
    "version": 3
   },
   "file_extension": ".py",
   "mimetype": "text/x-python",
   "name": "python",
   "nbconvert_exporter": "python",
   "pygments_lexer": "ipython3",
   "version": "3.12.3"
  }
 },
 "nbformat": 4,
 "nbformat_minor": 5
}
