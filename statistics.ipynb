{
 "cells": [
  {
   "cell_type": "code",
   "execution_count": 1,
   "id": "ae97805d",
   "metadata": {},
   "outputs": [
    {
     "name": "stdout",
     "output_type": "stream",
     "text": [
      "3\n",
      "3\n",
      "1\n",
      "1.5811388300841898\n",
      "2.5\n"
     ]
    }
   ],
   "source": [
    "import statistics\n",
    "\n",
    "data = [1, 2, 3, 4, 5]\n",
    "\n",
    "mean = statistics.mean(data)\n",
    "\n",
    "print(mean)\n",
    "\n",
    "############################\n",
    "\n",
    "median = statistics.median(data)\n",
    "\n",
    "print(median)\n",
    "\n",
    "############################\n",
    "\n",
    "mode = statistics.mode(data)\n",
    "\n",
    "print(mode)\n",
    "\n",
    "############################\n",
    "\n",
    "stdev = statistics.stdev(data)\n",
    "\n",
    "print(stdev)\n",
    "\n",
    "############################\n",
    "\n",
    "variance = statistics.variance(data)\n",
    "\n",
    "print(variance)\n",
    "\n",
    "############################"
   ]
  },
  {
   "cell_type": "code",
   "execution_count": null,
   "id": "0dd63acb",
   "metadata": {},
   "outputs": [],
   "source": []
  }
 ],
 "metadata": {
  "kernelspec": {
   "display_name": "Python 3 (ipykernel)",
   "language": "python",
   "name": "python3"
  },
  "language_info": {
   "codemirror_mode": {
    "name": "ipython",
    "version": 3
   },
   "file_extension": ".py",
   "mimetype": "text/x-python",
   "name": "python",
   "nbconvert_exporter": "python",
   "pygments_lexer": "ipython3",
   "version": "3.12.3"
  }
 },
 "nbformat": 4,
 "nbformat_minor": 5
}
