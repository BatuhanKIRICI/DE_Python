{
 "cells": [
  {
   "cell_type": "code",
   "execution_count": 3,
   "id": "00d8887f",
   "metadata": {},
   "outputs": [
    {
     "name": "stdout",
     "output_type": "stream",
     "text": [
      "0.8330354288113759\n",
      "15.956373561876317\n",
      "4\n",
      "1\n",
      "[3, 4, 1, 2, 5]\n"
     ]
    }
   ],
   "source": [
    "import random\n",
    "\n",
    "\n",
    "# Generate a random float between 0 and 1\n",
    "\n",
    "x = random.random()\n",
    "\n",
    "print(x)\n",
    "\n",
    "# Generate a random float between 10 and 20\n",
    "\n",
    "y = random.uniform(10, 20)\n",
    "\n",
    "print(y)\n",
    "\n",
    "# Generate a random integer between 1 and 10\n",
    "\n",
    "z = random.randint(1, 10)\n",
    "\n",
    "print(z)\n",
    "\n",
    "# Choose a random element from a list\n",
    "\n",
    "data = [1, 2, 3, 4, 5]\n",
    "\n",
    "element = random.choice(data)\n",
    "\n",
    "print(element)\n",
    "\n",
    "# Shuffle a list\n",
    "\n",
    "random.shuffle(data)\n",
    "\n",
    "print(data)\n"
   ]
  }
 ],
 "metadata": {
  "kernelspec": {
   "display_name": "Python 3 (ipykernel)",
   "language": "python",
   "name": "python3"
  },
  "language_info": {
   "codemirror_mode": {
    "name": "ipython",
    "version": 3
   },
   "file_extension": ".py",
   "mimetype": "text/x-python",
   "name": "python",
   "nbconvert_exporter": "python",
   "pygments_lexer": "ipython3",
   "version": "3.12.3"
  }
 },
 "nbformat": 4,
 "nbformat_minor": 5
}
